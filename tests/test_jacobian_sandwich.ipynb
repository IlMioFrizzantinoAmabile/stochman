{
 "cells": [
  {
   "cell_type": "code",
   "execution_count": 88,
   "metadata": {},
   "outputs": [],
   "source": [
    "import torch\n",
    "from stochman import nnj"
   ]
  },
  {
   "cell_type": "code",
   "execution_count": 89,
   "metadata": {},
   "outputs": [],
   "source": [
    "_batch_size = 7\n",
    "_input_size = 3\n",
    "_hidden_size = 2\n",
    "_output_size = 2\n",
    "\n",
    "input = torch.randn(_batch_size, _input_size)\n",
    "input2 = torch.randn(_batch_size, _input_size)"
   ]
  },
  {
   "cell_type": "code",
   "execution_count": 90,
   "metadata": {},
   "outputs": [],
   "source": [
    "model = nnj.Linear(_input_size, _output_size)\n",
    "\n",
    "### test single input ###\n",
    "output = model(input)\n",
    "\n",
    "tmp = torch.ones(_batch_size, _output_size)\n",
    "GGN = model._jacobian_sandwich(input, output, tmp, wrt = 'input', diag_inp = True, diag_out = True)\n",
    "GGN = model._jacobian_sandwich(input, output, tmp, wrt = 'input', diag_inp = True, diag_out = False)\n",
    "GGN = model._jacobian_sandwich(input, output, tmp, wrt = 'weight', diag_inp = True, diag_out = True)\n",
    "GGN = model._jacobian_sandwich(input, output, tmp, wrt = 'weight', diag_inp = True, diag_out = False)\n",
    "\n",
    "tmp = torch.ones(_batch_size, _output_size, _output_size)\n",
    "GGN = model._jacobian_sandwich(input, output, tmp, wrt = 'input', diag_inp = False, diag_out = True)\n",
    "GGN = model._jacobian_sandwich(input, output, tmp, wrt = 'input', diag_inp = False, diag_out = False)\n",
    "GGN = model._jacobian_sandwich(input, output, tmp, wrt = 'weight', diag_inp = False, diag_out = True)\n",
    "GGN = model._jacobian_sandwich(input, output, tmp, wrt = 'weight', diag_inp = False, diag_out = False)\n",
    "\n",
    "\n",
    "### test double input ###\n",
    "output = model(input)\n",
    "output2 = model(input2)\n",
    "\n",
    "tmps = [torch.ones(_batch_size, _output_size) for _ in range(3)]\n",
    "GGN = model._jacobian_sandwich_multipoint(input, input2, output, output2, tmps, wrt = 'input', diag_inp = True, diag_out = True)\n",
    "GGN = model._jacobian_sandwich_multipoint(input, input2, output, output2, tmps, wrt = 'input', diag_inp = True, diag_out = False)\n",
    "GGN = model._jacobian_sandwich_multipoint(input, input2, output, output2, tmps, wrt = 'weight', diag_inp = True, diag_out = True)\n",
    "#GGN = model._jacobian_sandwich_multipoint(input, input2, output, output2, tmps, wrt = 'weight', diag_inp = True, diag_out = False)\n",
    "\n",
    "tmp = torch.ones(_batch_size, _output_size, _output_size)\n",
    "GGN = model._jacobian_sandwich_multipoint(input, input2, output, output2, tmps, wrt = 'input', diag_inp = True, diag_out = True)\n",
    "GGN = model._jacobian_sandwich_multipoint(input, input2, output, output2, tmps, wrt = 'input', diag_inp = True, diag_out = False)\n",
    "GGN = model._jacobian_sandwich_multipoint(input, input2, output, output2, tmps, wrt = 'weight', diag_inp = True, diag_out = True)\n",
    "#GGN = model._jacobian_sandwich_multipoint(input, input2, output, output2, tmps, wrt = 'weight', diag_inp = True, diag_out = False)"
   ]
  },
  {
   "cell_type": "code",
   "execution_count": 91,
   "metadata": {},
   "outputs": [],
   "source": [
    "model = nnj.Tanh()\n",
    "\n",
    "### test single input ###\n",
    "output = model(input)\n",
    "\n",
    "tmp = torch.ones(_batch_size, _input_size)\n",
    "GGN = model._jacobian_sandwich(input, output, tmp, wrt = 'input', diag_inp = True, diag_out = True)\n",
    "#GGN = model._jacobian_sandwich(input, output, tmp, wrt = 'input', diag_inp = True, diag_out = False)\n",
    "GGN = model._jacobian_sandwich(input, output, tmp, wrt = 'weight', diag_inp = True, diag_out = True)\n",
    "GGN = model._jacobian_sandwich(input, output, tmp, wrt = 'weight', diag_inp = True, diag_out = False)\n",
    "\n",
    "tmp = torch.ones(_batch_size, _input_size, _input_size)\n",
    "GGN = model._jacobian_sandwich(input, output, tmp, wrt = 'input', diag_inp = False, diag_out = True)\n",
    "GGN = model._jacobian_sandwich(input, output, tmp, wrt = 'input', diag_inp = False, diag_out = False)\n",
    "GGN = model._jacobian_sandwich(input, output, tmp, wrt = 'weight', diag_inp = False, diag_out = True)\n",
    "GGN = model._jacobian_sandwich(input, output, tmp, wrt = 'weight', diag_inp = False, diag_out = False)\n",
    "\n",
    "\n",
    "### test double input ###\n",
    "output = model(input)\n",
    "output2 = model(input2)\n",
    "\n",
    "tmps = [torch.ones(_batch_size, _input_size) for _ in range(3)]\n",
    "GGN = model._jacobian_sandwich_multipoint(input, input2, output, output2, tmps, wrt = 'input', diag_inp = True, diag_out = True)\n",
    "#GGN = model._jacobian_sandwich_multipoint(input, input2, output, output2, tmps, wrt = 'input', diag_inp = True, diag_out = False)\n",
    "GGN = model._jacobian_sandwich_multipoint(input, input2, output, output2, tmps, wrt = 'weight', diag_inp = True, diag_out = True)\n",
    "#GGN = model._jacobian_sandwich_multipoint(input, input2, output, output2, tmps, wrt = 'weight', diag_inp = True, diag_out = False)\n",
    "\n",
    "tmp = torch.ones(_batch_size, _input_size, _input_size)\n",
    "GGN = model._jacobian_sandwich_multipoint(input, input2, output, output2, tmps, wrt = 'input', diag_inp = True, diag_out = True)\n",
    "#GGN = model._jacobian_sandwich_multipoint(input, input2, output, output2, tmps, wrt = 'input', diag_inp = True, diag_out = False)\n",
    "GGN = model._jacobian_sandwich_multipoint(input, input2, output, output2, tmps, wrt = 'weight', diag_inp = True, diag_out = True)\n",
    "#GGN = model._jacobian_sandwich_multipoint(input, input2, output, output2, tmps, wrt = 'weight', diag_inp = True, diag_out = False)"
   ]
  },
  {
   "cell_type": "code",
   "execution_count": 92,
   "metadata": {},
   "outputs": [],
   "source": [
    "model = nnj.ReLU()\n",
    "\n",
    "### test single input ###\n",
    "output = model(input)\n",
    "\n",
    "tmp = torch.ones(_batch_size, _input_size)\n",
    "GGN = model._jacobian_sandwich(input, output, tmp, wrt = 'input', diag_inp = True, diag_out = True)\n",
    "#GGN = model._jacobian_sandwich(input, output, tmp, wrt = 'input', diag_inp = True, diag_out = False)\n",
    "GGN = model._jacobian_sandwich(input, output, tmp, wrt = 'weight', diag_inp = True, diag_out = True)\n",
    "GGN = model._jacobian_sandwich(input, output, tmp, wrt = 'weight', diag_inp = True, diag_out = False)\n",
    "\n",
    "tmp = torch.ones(_batch_size, _input_size, _input_size)\n",
    "GGN = model._jacobian_sandwich(input, output, tmp, wrt = 'input', diag_inp = False, diag_out = True)\n",
    "GGN = model._jacobian_sandwich(input, output, tmp, wrt = 'input', diag_inp = False, diag_out = False)\n",
    "GGN = model._jacobian_sandwich(input, output, tmp, wrt = 'weight', diag_inp = False, diag_out = True)\n",
    "GGN = model._jacobian_sandwich(input, output, tmp, wrt = 'weight', diag_inp = False, diag_out = False)\n",
    "\n",
    "\n",
    "### test double input ###\n",
    "output = model(input)\n",
    "output2 = model(input2)\n",
    "\n",
    "tmps = [torch.ones(_batch_size, _input_size) for _ in range(3)]\n",
    "GGN = model._jacobian_sandwich_multipoint(input, input2, output, output2, tmps, wrt = 'input', diag_inp = True, diag_out = True)\n",
    "#GGN = model._jacobian_sandwich_multipoint(input, input2, output, output2, tmps, wrt = 'input', diag_inp = True, diag_out = False)\n",
    "GGN = model._jacobian_sandwich_multipoint(input, input2, output, output2, tmps, wrt = 'weight', diag_inp = True, diag_out = True)\n",
    "#GGN = model._jacobian_sandwich_multipoint(input, input2, output, output2, tmps, wrt = 'weight', diag_inp = True, diag_out = False)\n",
    "\n",
    "tmp = torch.ones(_batch_size, _input_size, _input_size)\n",
    "GGN = model._jacobian_sandwich_multipoint(input, input2, output, output2, tmps, wrt = 'input', diag_inp = True, diag_out = True)\n",
    "#GGN = model._jacobian_sandwich_multipoint(input, input2, output, output2, tmps, wrt = 'input', diag_inp = True, diag_out = False)\n",
    "GGN = model._jacobian_sandwich_multipoint(input, input2, output, output2, tmps, wrt = 'weight', diag_inp = True, diag_out = True)\n",
    "#GGN = model._jacobian_sandwich_multipoint(input, input2, output, output2, tmps, wrt = 'weight', diag_inp = True, diag_out = False)"
   ]
  },
  {
   "cell_type": "code",
   "execution_count": 93,
   "metadata": {},
   "outputs": [],
   "source": [
    "model = nnj.L2Norm()\n",
    "\n",
    "### test single input ###\n",
    "output = model(input)\n",
    "\n",
    "tmp = torch.ones(_batch_size, _input_size)\n",
    "#GGN = model._jacobian_sandwich(input, output, tmp, wrt = 'input', diag_inp = True, diag_out = True)\n",
    "GGN = model._jacobian_sandwich(input, output, tmp, wrt = 'input', diag_inp = True, diag_out = False)\n",
    "GGN = model._jacobian_sandwich(input, output, tmp, wrt = 'weight', diag_inp = True, diag_out = True)\n",
    "GGN = model._jacobian_sandwich(input, output, tmp, wrt = 'weight', diag_inp = True, diag_out = False)\n",
    "\n",
    "tmp = torch.ones(_batch_size, _input_size, _input_size)\n",
    "#GGN = model._jacobian_sandwich(input, output, tmp, wrt = 'input', diag_inp = False, diag_out = True)\n",
    "GGN = model._jacobian_sandwich(input, output, tmp, wrt = 'input', diag_inp = False, diag_out = False)\n",
    "GGN = model._jacobian_sandwich(input, output, tmp, wrt = 'weight', diag_inp = False, diag_out = True)\n",
    "GGN = model._jacobian_sandwich(input, output, tmp, wrt = 'weight', diag_inp = False, diag_out = False)\n",
    "\n",
    "\n",
    "### test double input ###\n",
    "output = model(input)\n",
    "output2 = model(input2)\n",
    "\n",
    "tmps = [torch.ones(_batch_size, _input_size) for _ in range(3)]\n",
    "#GGN = model._jacobian_sandwich_multipoint(input, input2, output, output2, tmps, wrt = 'input', diag_inp = True, diag_out = True)\n",
    "GGN = model._jacobian_sandwich_multipoint(input, input2, output, output2, tmps, wrt = 'input', diag_inp = True, diag_out = False)\n",
    "GGN = model._jacobian_sandwich_multipoint(input, input2, output, output2, tmps, wrt = 'weight', diag_inp = True, diag_out = True)\n",
    "GGN = model._jacobian_sandwich_multipoint(input, input2, output, output2, tmps, wrt = 'weight', diag_inp = True, diag_out = False)\n",
    "\n",
    "tmp = torch.ones(_batch_size, _input_size, _input_size)\n",
    "#GGN = model._jacobian_sandwich_multipoint(input, input2, output, output2, tmps, wrt = 'input', diag_inp = True, diag_out = True)\n",
    "GGN = model._jacobian_sandwich_multipoint(input, input2, output, output2, tmps, wrt = 'input', diag_inp = True, diag_out = False)\n",
    "GGN = model._jacobian_sandwich_multipoint(input, input2, output, output2, tmps, wrt = 'weight', diag_inp = True, diag_out = True)\n",
    "GGN = model._jacobian_sandwich_multipoint(input, input2, output, output2, tmps, wrt = 'weight', diag_inp = True, diag_out = False)"
   ]
  },
  {
   "cell_type": "code",
   "execution_count": 94,
   "metadata": {},
   "outputs": [],
   "source": [
    "layers = [nnj.Linear(_input_size, _hidden_size),\n",
    "          nnj.Tanh(),\n",
    "          nnj.Linear(_hidden_size, _hidden_size),\n",
    "          nnj.ReLU(),\n",
    "          nnj.Linear(_hidden_size, _output_size),\n",
    "          nnj.L2Norm()\n",
    "          ]\n",
    "                        \n",
    "model = nnj.Sequential(layers,\n",
    "                  add_hooks = True\n",
    ")\n",
    "\n",
    "### test single input ###\n",
    "output = model(input)\n",
    "\n",
    "tmp = torch.ones(_batch_size, _output_size)\n",
    "GGN = model._jacobian_sandwich(input, tmp, wrt = 'input', diag_inp = True, method = 'diagonal exact')\n",
    "GGN = model._jacobian_sandwich(input, tmp, wrt = 'weight', diag_inp = True, method = 'diagonal exact')\n",
    "GGN = model._jacobian_sandwich(input, tmp, wrt = 'input', diag_inp = True, method = 'diagonal approx')\n",
    "GGN = model._jacobian_sandwich(input, tmp, wrt = 'weight', diag_inp = True, method = 'diagonal approx')\n",
    "\n",
    "tmp = torch.ones(_batch_size, _output_size, _output_size)\n",
    "GGN = model._jacobian_sandwich(input, tmp, wrt = 'input', diag_inp = False, method = 'diagonal exact')\n",
    "GGN = model._jacobian_sandwich(input, tmp, wrt = 'weight', diag_inp = False, method = 'diagonal exact')\n",
    "GGN = model._jacobian_sandwich(input, tmp, wrt = 'input', diag_inp = False, method = 'diagonal approx')\n",
    "GGN = model._jacobian_sandwich(input, tmp, wrt = 'weight', diag_inp = False, method = 'diagonal approx')\n",
    "\n",
    "\n",
    "### test double input ###\n",
    "output = model(input)\n",
    "output2 = model(input2)\n",
    "\n",
    "tmps = [torch.ones(_batch_size, _output_size) for _ in range(3)]\n",
    "GGN = model._jacobian_sandwich_multipoint(input, input2, tmps, wrt = 'input', diag_inp = True, method = 'diagonal exact')\n",
    "GGN = model._jacobian_sandwich_multipoint(input, input2, tmps, wrt = 'weight', diag_inp = True, method = 'diagonal exact')\n",
    "\n",
    "tmps = [torch.ones(_batch_size, _output_size, _output_size) for _ in range(3)]\n",
    "GGN = model._jacobian_sandwich_multipoint(input, input2, tmps, wrt = 'input', diag_inp = False, method = 'diagonal exact')\n",
    "GGN = model._jacobian_sandwich_multipoint(input, input2, tmps, wrt = 'weight', diag_inp = False, method = 'diagonal exact')"
   ]
  },
  {
   "cell_type": "markdown",
   "metadata": {},
   "source": [
    "# Check correctness"
   ]
  },
  {
   "cell_type": "code",
   "execution_count": 95,
   "metadata": {},
   "outputs": [],
   "source": [
    "stoch_model = nnj.Sequential([nnj.Linear(_input_size, _hidden_size),\n",
    "                              nnj.ReLU(),\n",
    "                              nnj.Linear(_hidden_size, _output_size),\n",
    "                              #nnj.Tanh(),\n",
    "                              #nnj.L2Norm()\n",
    "                              ],\n",
    "                  add_hooks = True\n",
    ")"
   ]
  },
  {
   "cell_type": "code",
   "execution_count": 96,
   "metadata": {},
   "outputs": [],
   "source": [
    "from jax import numpy as jnp\n",
    "import numpy as np\n",
    "\n",
    "def Relu(x):\n",
    "    return jnp.maximum(x, jnp.zeros_like(x)) # max(0,x)\n",
    "\n",
    "def Tanh(x):\n",
    "    return jnp.tanh(x)\n",
    "\n",
    "def L2Norm(x):\n",
    "    x = x.T / (jnp.linalg.norm(x, ord=2, axis=1) + 1e-6)\n",
    "    return x.T\n",
    "\n",
    "def LinearLayer(w, b, x):\n",
    "    w = w.reshape(len(b), -1)\n",
    "    out = jnp.dot(x, w.T) + b\n",
    "    return out\n",
    "\n",
    "def jax_model(weights, x):\n",
    "    w1 = weights[ : _input_size*_hidden_size]\n",
    "    b1 = weights[_input_size*_hidden_size : _input_size*_hidden_size + _hidden_size]\n",
    "    x = LinearLayer(w1, b1, x)\n",
    "    x = Relu(x)\n",
    "    w2 = weights[_input_size*_hidden_size + _hidden_size : _input_size*_hidden_size + _hidden_size + _hidden_size*_output_size]\n",
    "    b2 = weights[_input_size*_hidden_size + _hidden_size + _hidden_size*_output_size : ]\n",
    "    x = LinearLayer(w2, b2, x)\n",
    "    #x = Tanh(x)\n",
    "    #x = L2Norm(x)\n",
    "    return x\n",
    "\n",
    "_weights_size = _input_size*_hidden_size + _hidden_size + _hidden_size*_output_size + _output_size\n",
    "        "
   ]
  },
  {
   "cell_type": "code",
   "execution_count": 97,
   "metadata": {},
   "outputs": [
    {
     "name": "stdout",
     "output_type": "stream",
     "text": [
      "14 14\n"
     ]
    }
   ],
   "source": [
    "# set weights and input to be equal\n",
    "weights = []\n",
    "for row in stoch_model._modules_list[0].weight.detach().numpy():\n",
    "    weights = np.concatenate((weights, row))\n",
    "weights= np.concatenate((weights, stoch_model._modules_list[0].bias.detach().numpy()))\n",
    "for row in stoch_model._modules_list[2].weight.detach().numpy():\n",
    "    weights = np.concatenate((weights, row))\n",
    "weights = np.concatenate((weights, stoch_model._modules_list[2].bias.detach().numpy()))\n",
    "\n",
    "weights = jnp.array(weights)\n",
    "\n",
    "print(_weights_size, len(weights))\n",
    "\n",
    "stoch_input = torch.randn(_batch_size, _input_size)\n",
    "jax_input = jnp.array(stoch_input.numpy())\n"
   ]
  },
  {
   "cell_type": "code",
   "execution_count": 98,
   "metadata": {},
   "outputs": [
    {
     "data": {
      "text/plain": [
       "DeviceArray([0.20421657, 0.20092005, 0.25616267, 0.19053367, 0.27515504,\n",
       "             0.43389547, 0.47147834], dtype=float32)"
      ]
     },
     "execution_count": 98,
     "metadata": {},
     "output_type": "execute_result"
    }
   ],
   "source": [
    "jax_model(weights, jax_input)\n",
    "jnp.linalg.norm(jax_model(weights, jax_input), ord=2, axis=1)"
   ]
  },
  {
   "cell_type": "code",
   "execution_count": 99,
   "metadata": {},
   "outputs": [
    {
     "name": "stdout",
     "output_type": "stream",
     "text": [
      "[[1. 0.]\n",
      " [0. 0.]\n",
      " [0. 0.]\n",
      " [0. 0.]\n",
      " [0. 0.]\n",
      " [0. 0.]\n",
      " [0. 0.]]\n",
      "(DeviceArray([ 0.01732158, -0.00982765,  0.05841227,  0.05973367,\n",
      "             -0.03389077,  0.20143534, -0.16125771, -0.556099  ,\n",
      "              0.22516842,  0.04504061,  0.        ,  0.        ,\n",
      "              1.        ,  0.        ], dtype=float32),)\n"
     ]
    }
   ],
   "source": [
    "from jax import vjp\n",
    "\n",
    "f = lambda weights: jax_model(weights, jax_input)\n",
    "y, vjp_fun = vjp(f, weights)\n",
    "\n",
    "e_i = jnp.zeros((_batch_size, _output_size))\n",
    "e_i = e_i.at[0,0].set(1)\n",
    "v_i = vjp_fun(e_i)\n",
    "print(e_i)\n",
    "print(v_i)"
   ]
  },
  {
   "cell_type": "code",
   "execution_count": 100,
   "metadata": {},
   "outputs": [
    {
     "name": "stdout",
     "output_type": "stream",
     "text": [
      "(2, 14)\n",
      "(14, 2)\n",
      "(14, 14)\n",
      "(14,)\n"
     ]
    }
   ],
   "source": [
    "# tmp is the identity matrix, for each batch element\n",
    "identity = []\n",
    "for i in range(_output_size):\n",
    "    e_i = jnp.zeros((_batch_size, _output_size))\n",
    "    for b in range(_batch_size):\n",
    "        e_i = e_i.at[b,i].set(1)\n",
    "    identity.append(e_i)\n",
    "\n",
    "rows_of_J = []\n",
    "for row in identity:\n",
    "    v_i = vjp_fun(row)\n",
    "    rows_of_J.append(v_i[0])\n",
    "\n",
    "rows_of_J = np.array(rows_of_J)\n",
    "cols_of_J = rows_of_J.T\n",
    "print(rows_of_J.shape)\n",
    "print(cols_of_J.shape)\n",
    "\n",
    "GGN_by_jax = jnp.dot(cols_of_J, rows_of_J)\n",
    "print(GGN_by_jax.shape)\n",
    "\n",
    "GGN_diagonal_by_jax = []\n",
    "for w in range(_weights_size):\n",
    "    GGN_diagonal_by_jax.append(GGN_by_jax[w][w])\n",
    "GGN_diagonal_by_jax = jnp.array(GGN_diagonal_by_jax)\n",
    "print(GGN_diagonal_by_jax.shape)"
   ]
  },
  {
   "cell_type": "code",
   "execution_count": 101,
   "metadata": {},
   "outputs": [
    {
     "data": {
      "text/plain": [
       "array([[ 1.8967760e-01,  2.9476598e-01],\n",
       "       [ 1.1912173e-01,  1.8511955e-01],\n",
       "       [ 5.0805789e-01,  7.8954077e-01],\n",
       "       [-6.7780918e-01, -4.6249384e-01],\n",
       "       [-9.6540225e-01, -6.5872908e-01],\n",
       "       [ 2.2896237e-03,  1.5622842e-03],\n",
       "       [-6.4503086e-01, -1.0024017e+00],\n",
       "       [-1.6682971e+00, -1.1383398e+00],\n",
       "       [ 2.1613588e+00,  0.0000000e+00],\n",
       "       [ 1.2079453e+00,  0.0000000e+00],\n",
       "       [ 0.0000000e+00,  2.1613588e+00],\n",
       "       [ 0.0000000e+00,  1.2079453e+00],\n",
       "       [ 7.0000000e+00,  0.0000000e+00],\n",
       "       [ 0.0000000e+00,  7.0000000e+00]], dtype=float32)"
      ]
     },
     "execution_count": 101,
     "metadata": {},
     "output_type": "execute_result"
    }
   ],
   "source": [
    "cols_of_J"
   ]
  },
  {
   "cell_type": "code",
   "execution_count": 105,
   "metadata": {},
   "outputs": [],
   "source": [
    "identity_diagonal = torch.ones(_batch_size, _output_size)\n",
    "GGN_diagonal_by_stoch = stoch_model._jacobian_sandwich(input,\n",
    "                                                       identity_diagonal, \n",
    "                                                       wrt = 'weight', \n",
    "                                                       diag_inp = True, \n",
    "                                                       method = 'diagonal exact')\n",
    "\n",
    "identity = torch.zeros(_batch_size, _output_size, _output_size)\n",
    "for i in range(_output_size):\n",
    "    for b in range(_batch_size):\n",
    "        identity[b][i][i] = 1\n",
    "GGN_diagonal_by_stoch2 = stoch_model._jacobian_sandwich(input,\n",
    "                                                       identity, \n",
    "                                                       wrt = 'weight', \n",
    "                                                       diag_inp = False, \n",
    "                                                       method = 'diagonal exact')"
   ]
  },
  {
   "cell_type": "code",
   "execution_count": 106,
   "metadata": {},
   "outputs": [
    {
     "data": {
      "text/plain": [
       "DeviceArray([1.22864574e-01, 4.84592356e-02, 8.81497443e-01,\n",
       "             6.73325837e-01, 1.36592543e+00, 7.68310838e-06,\n",
       "             1.42087400e+00, 4.07903242e+00, 4.67147207e+00,\n",
       "             1.45913196e+00, 4.67147207e+00, 1.45913196e+00,\n",
       "             4.90000000e+01, 4.90000000e+01], dtype=float32)"
      ]
     },
     "execution_count": 106,
     "metadata": {},
     "output_type": "execute_result"
    }
   ],
   "source": [
    "GGN_diagonal_by_jax"
   ]
  },
  {
   "cell_type": "code",
   "execution_count": 109,
   "metadata": {},
   "outputs": [
    {
     "data": {
      "text/plain": [
       "tensor([[5.7374e-02, 8.9518e-02, 7.1054e-02, 2.9282e-01, 4.5687e-01, 3.6263e-01,\n",
       "         8.8805e-02, 4.5323e-01, 1.3298e-01, 1.2826e-01, 1.3298e-01, 1.2826e-01,\n",
       "         1.0000e+00, 1.0000e+00],\n",
       "        [5.4939e-02, 3.3170e-01, 1.8270e-02, 0.0000e+00, 0.0000e+00, 0.0000e+00,\n",
       "         8.8805e-02, 0.0000e+00, 6.6591e-01, 0.0000e+00, 6.6591e-01, 0.0000e+00,\n",
       "         1.0000e+00, 1.0000e+00],\n",
       "        [1.0542e-01, 1.3857e-03, 2.6079e-02, 5.3803e-01, 7.0722e-03, 1.3310e-01,\n",
       "         8.8805e-02, 4.5323e-01, 3.9640e-02, 1.6969e-01, 3.9640e-02, 1.6969e-01,\n",
       "         1.0000e+00, 1.0000e+00],\n",
       "        [6.5552e-05, 2.9040e-03, 1.6457e-01, 0.0000e+00, 0.0000e+00, 0.0000e+00,\n",
       "         8.8805e-02, 0.0000e+00, 2.7880e-01, 0.0000e+00, 2.7880e-01, 0.0000e+00,\n",
       "         1.0000e+00, 1.0000e+00],\n",
       "        [7.1358e-03, 6.8865e-02, 1.7081e-02, 0.0000e+00, 0.0000e+00, 0.0000e+00,\n",
       "         8.8805e-02, 0.0000e+00, 8.4231e-02, 0.0000e+00, 8.4231e-02, 0.0000e+00,\n",
       "         1.0000e+00, 1.0000e+00],\n",
       "        [0.0000e+00, 0.0000e+00, 0.0000e+00, 5.7846e-01, 8.9351e-03, 1.6069e+00,\n",
       "         0.0000e+00, 4.5323e-01, 0.0000e+00, 6.2034e-01, 0.0000e+00, 6.2034e-01,\n",
       "         1.0000e+00, 1.0000e+00],\n",
       "        [0.0000e+00, 0.0000e+00, 0.0000e+00, 5.5856e-03, 1.3072e+00, 2.1613e-01,\n",
       "         0.0000e+00, 4.5323e-01, 0.0000e+00, 5.5416e-01, 0.0000e+00, 5.5416e-01,\n",
       "         1.0000e+00, 1.0000e+00]], grad_fn=<CatBackward0>)"
      ]
     },
     "execution_count": 109,
     "metadata": {},
     "output_type": "execute_result"
    }
   ],
   "source": [
    "GGN_diagonal_by_stoch"
   ]
  },
  {
   "cell_type": "code",
   "execution_count": 108,
   "metadata": {},
   "outputs": [
    {
     "data": {
      "text/plain": [
       "tensor([0.0574, 0.0895, 0.0711, 0.2928, 0.4569, 0.3626, 0.0888, 0.4532, 0.1330,\n",
       "        0.1283, 0.1330, 0.1283, 1.0000, 1.0000], grad_fn=<SelectBackward0>)"
      ]
     },
     "execution_count": 108,
     "metadata": {},
     "output_type": "execute_result"
    }
   ],
   "source": [
    "GGN_diagonal_by_stoch2[0]"
   ]
  },
  {
   "cell_type": "code",
   "execution_count": null,
   "metadata": {},
   "outputs": [],
   "source": []
  }
 ],
 "metadata": {
  "kernelspec": {
   "display_name": "Python 3.8.12 ('laplace')",
   "language": "python",
   "name": "python3"
  },
  "language_info": {
   "codemirror_mode": {
    "name": "ipython",
    "version": 3
   },
   "file_extension": ".py",
   "mimetype": "text/x-python",
   "name": "python",
   "nbconvert_exporter": "python",
   "pygments_lexer": "ipython3",
   "version": "3.8.12"
  },
  "orig_nbformat": 4,
  "vscode": {
   "interpreter": {
    "hash": "477c387996a084153fd8ef9c4e5432322bdf7a5fc9ad0e2a4c514862f58a6dd5"
   }
  }
 },
 "nbformat": 4,
 "nbformat_minor": 2
}
