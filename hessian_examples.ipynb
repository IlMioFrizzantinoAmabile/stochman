{
 "cells": [
  {
   "cell_type": "code",
   "execution_count": 9,
   "metadata": {},
   "outputs": [],
   "source": [
    "import torch\n",
    "from stochman import nnj\n",
    "from stochman.laplace import HessianCalculator"
   ]
  },
  {
   "cell_type": "markdown",
   "metadata": {},
   "source": [
    "# Model"
   ]
  },
  {
   "cell_type": "code",
   "execution_count": 10,
   "metadata": {},
   "outputs": [],
   "source": [
    "# model hyperparameter\n",
    "_input_size = 5\n",
    "_hidden_size = 200\n",
    "_output_size = 2\n",
    "\n",
    "# declare the model\n",
    "model = nnj.Sequential([\n",
    "                        nnj.Tanh(),\n",
    "                        nnj.Linear(_input_size, _hidden_size),\n",
    "                        nnj.Tanh(),\n",
    "                        nnj.Linear(_hidden_size, _hidden_size),\n",
    "                        nnj.Tanh(),\n",
    "                        nnj.Linear(_hidden_size, _hidden_size),\n",
    "                        nnj.Tanh(),\n",
    "                        #nnj.L2Norm(),\n",
    "                        nnj.Linear(_hidden_size, _output_size),\n",
    "                        #nnj.L2Norm()\n",
    "                        ],\n",
    "            add_hooks = True\n",
    ")"
   ]
  },
  {
   "cell_type": "markdown",
   "metadata": {},
   "source": [
    "# MSE loss"
   ]
  },
  {
   "cell_type": "code",
   "execution_count": 11,
   "metadata": {},
   "outputs": [],
   "source": [
    "# dataset (random)\n",
    "_batch_size = 10\n",
    "dataset = torch.randn(_batch_size, _input_size)"
   ]
  },
  {
   "cell_type": "markdown",
   "metadata": {},
   "source": [
    "### Exact Diagonal"
   ]
  },
  {
   "cell_type": "code",
   "execution_count": 12,
   "metadata": {},
   "outputs": [
    {
     "name": "stdout",
     "output_type": "stream",
     "text": [
      "Diagonal exact Generalized Gauss Netwon, with respect to weight\n",
      " tensor([3.9511e-05, 2.0655e-05, 3.5548e-05,  ..., 1.6478e-02, 1.0000e+00,\n",
      "        1.0000e+00], grad_fn=<MeanBackward1>)\n",
      "Diagonal exact Generalized Gauss Netwon, with respect to input\n",
      " tensor([0.0015, 0.0008, 0.0004, 0.0015, 0.0007], grad_fn=<MeanBackward1>)\n"
     ]
    }
   ],
   "source": [
    "# wrt to weight\n",
    "mse_exact_diagonal_weight = HessianCalculator(wrt = \"weight\",\n",
    "                                              loss_func = \"mse\",\n",
    "                                              shape = \"diagonal\",\n",
    "                                              speed = \"half\")\n",
    "hessian = mse_exact_diagonal_weight.compute_hessian(dataset, model)\n",
    "print('Diagonal exact Generalized Gauss Netwon, with respect to weight\\n',hessian)\n",
    "\n",
    "\n",
    "# wrt to input\n",
    "mse_exact_diagonal_input = HessianCalculator(wrt = \"input\",\n",
    "                                             loss_func = \"mse\",\n",
    "                                             shape = \"diagonal\",\n",
    "                                             speed = \"half\")\n",
    "hessian = mse_exact_diagonal_input.compute_hessian(dataset, model)\n",
    "print('Diagonal exact Generalized Gauss Netwon, with respect to input\\n',hessian)"
   ]
  },
  {
   "cell_type": "markdown",
   "metadata": {},
   "source": [
    "### Approx diagonal"
   ]
  },
  {
   "cell_type": "code",
   "execution_count": 13,
   "metadata": {},
   "outputs": [
    {
     "name": "stdout",
     "output_type": "stream",
     "text": [
      "Diagonal approximated Generalized Gauss Netwon, with respect to weight\n",
      " tensor([8.3223e-05, 4.5165e-05, 7.3964e-05,  ..., 1.6478e-02, 1.0000e+00,\n",
      "        1.0000e+00], grad_fn=<MeanBackward1>)\n",
      "Diagonal approximated Generalized Gauss Netwon, with respect to input\n",
      " tensor([0.0018, 0.0024, 0.0019, 0.0014, 0.0020], grad_fn=<MeanBackward1>)\n"
     ]
    }
   ],
   "source": [
    "# wrt to weight\n",
    "mse_approx_diagonal_weight = HessianCalculator(wrt = \"weight\",\n",
    "                                              loss_func = \"mse\",\n",
    "                                              shape = \"diagonal\",\n",
    "                                              speed = \"fast\")\n",
    "hessian = mse_approx_diagonal_weight.compute_hessian(dataset, model)\n",
    "print('Diagonal approximated Generalized Gauss Netwon, with respect to weight\\n',hessian)\n",
    "\n",
    "\n",
    "# wrt to input\n",
    "mse_approx_diagonal_input = HessianCalculator(wrt = \"input\",\n",
    "                                              loss_func = \"mse\",\n",
    "                                              shape = \"diagonal\",\n",
    "                                              speed = \"fast\")\n",
    "hessian = mse_approx_diagonal_input.compute_hessian(dataset, model)\n",
    "print('Diagonal approximated Generalized Gauss Netwon, with respect to input\\n',hessian)"
   ]
  },
  {
   "cell_type": "markdown",
   "metadata": {},
   "source": [
    "# Contrastive loss"
   ]
  },
  {
   "cell_type": "code",
   "execution_count": 14,
   "metadata": {},
   "outputs": [],
   "source": [
    "_batch_size = 20\n",
    "dataset = torch.randn(_batch_size, _input_size)\n",
    "\n",
    "# indexes for constrastive loss\n",
    "ap = [0,1]\n",
    "p = [2,3]\n",
    "an = [4,5,6]\n",
    "n = [7,8,9] \n",
    "tuple_indices = tuple((ap, p, an, n))"
   ]
  },
  {
   "cell_type": "markdown",
   "metadata": {},
   "source": [
    "### Exact Diagonal"
   ]
  },
  {
   "cell_type": "code",
   "execution_count": 15,
   "metadata": {},
   "outputs": [
    {
     "name": "stdout",
     "output_type": "stream",
     "text": [
      "Diagonal exact Generalized Gauss Netwon, with respect to weight\n",
      " tensor([-1.0632e-04, -3.6515e-05,  1.6400e-04,  ...,  3.5362e-03,\n",
      "         0.0000e+00,  0.0000e+00], grad_fn=<SubBackward0>)\n",
      "Diagonal exact Generalized Gauss Netwon, with respect to input\n",
      " tensor([0.0008, 0.0006, 0.0003, 0.0012, 0.0005], grad_fn=<MeanBackward1>)\n"
     ]
    }
   ],
   "source": [
    "# wrt to weight\n",
    "contrastive_exact_diagonal_weight = HessianCalculator(wrt = \"weight\",\n",
    "                                                      loss_func = \"contrastive\",\n",
    "                                                      shape = \"diagonal\",\n",
    "                                                      speed = \"half\")\n",
    "hessian = contrastive_exact_diagonal_weight.compute_hessian(dataset, model, tuple_indices=tuple_indices)\n",
    "print('Diagonal exact Generalized Gauss Netwon, with respect to weight\\n',hessian)\n",
    "\n",
    "\n",
    "# wrt to input\n",
    "contrastive_exact_diagonal_input = HessianCalculator(wrt = \"input\",\n",
    "                                                     loss_func = \"mse\",\n",
    "                                                     shape = \"diagonal\",\n",
    "                                                     speed = \"half\")\n",
    "hessian = contrastive_exact_diagonal_input.compute_hessian(dataset, model, tuple_indices=tuple_indices)\n",
    "print('Diagonal exact Generalized Gauss Netwon, with respect to input\\n',hessian)"
   ]
  },
  {
   "cell_type": "markdown",
   "metadata": {},
   "source": [
    "### Approx diagonal"
   ]
  },
  {
   "cell_type": "code",
   "execution_count": 16,
   "metadata": {},
   "outputs": [
    {
     "name": "stdout",
     "output_type": "stream",
     "text": [
      "Diagonal approximated Generalized Gauss Netwon, with respect to weight\n",
      " tensor([-1.9523e-04,  1.2209e-05,  4.2422e-04,  ...,  3.5362e-03,\n",
      "         0.0000e+00,  0.0000e+00], grad_fn=<SubBackward0>)\n",
      "Diagonal approximated Generalized Gauss Netwon, with respect to input\n",
      " tensor([ 2.2839e-03, -1.3082e-03,  1.2383e-05, -1.6364e-03,  3.6427e-04],\n",
      "       grad_fn=<SubBackward0>)\n"
     ]
    }
   ],
   "source": [
    "# wrt to weight\n",
    "contrastive_approx_diagonal_weight = HessianCalculator(wrt = \"weight\",\n",
    "                                                       loss_func = \"contrastive\",\n",
    "                                                       shape = \"diagonal\",\n",
    "                                                       speed = \"fast\")\n",
    "hessian = contrastive_approx_diagonal_weight.compute_hessian(dataset, model, tuple_indices=tuple_indices)\n",
    "print('Diagonal approximated Generalized Gauss Netwon, with respect to weight\\n',hessian)\n",
    "\n",
    "\n",
    "# wrt to input\n",
    "contrastive_approx_diagonal_input = HessianCalculator(wrt = \"input\",\n",
    "                                                      loss_func = \"contrastive\",\n",
    "                                                      shape = \"diagonal\",\n",
    "                                                      speed = \"fast\")\n",
    "hessian = contrastive_approx_diagonal_input.compute_hessian(dataset, model, tuple_indices=tuple_indices)\n",
    "print('Diagonal approximated Generalized Gauss Netwon, with respect to input\\n',hessian)"
   ]
  }
 ],
 "metadata": {
  "kernelspec": {
   "display_name": "Python 3.8.12 ('laplace')",
   "language": "python",
   "name": "python3"
  },
  "language_info": {
   "codemirror_mode": {
    "name": "ipython",
    "version": 3
   },
   "file_extension": ".py",
   "mimetype": "text/x-python",
   "name": "python",
   "nbconvert_exporter": "python",
   "pygments_lexer": "ipython3",
   "version": "3.8.12"
  },
  "orig_nbformat": 4,
  "vscode": {
   "interpreter": {
    "hash": "477c387996a084153fd8ef9c4e5432322bdf7a5fc9ad0e2a4c514862f58a6dd5"
   }
  }
 },
 "nbformat": 4,
 "nbformat_minor": 2
}
